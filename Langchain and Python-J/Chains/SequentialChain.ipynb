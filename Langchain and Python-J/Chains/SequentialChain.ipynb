{
 "cells": [
  {
   "cell_type": "code",
   "execution_count": 1,
   "id": "8a482e73-7d0c-407f-bd88-9f3c1c7eb559",
   "metadata": {},
   "outputs": [],
   "source": [
    "from langchain.chat_models import ChatOpenAI\n",
    "from langchain.prompts import ChatPromptTemplate\n",
    "from langchain.chains import SequentialChain, LLMChain"
   ]
  },
  {
   "cell_type": "code",
   "execution_count": 2,
   "id": "97cbbf4e",
   "metadata": {},
   "outputs": [],
   "source": [
    "from dotenv import load_dotenv\n",
    "import os\n",
    "\n",
    "load_dotenv()\n",
    "\n",
    "api_key = os.getenv('OPENAI_API_KEY')"
   ]
  },
  {
   "cell_type": "code",
   "execution_count": 4,
   "id": "dda2db90-b54b-422e-baff-2bd96faeaaeb",
   "metadata": {},
   "outputs": [],
   "source": [
    "llm = ChatOpenAI(api_key= api_key)"
   ]
  },
  {
   "cell_type": "code",
   "execution_count": 5,
   "id": "c2db5816-b29d-4567-b6aa-12e0c74e9331",
   "metadata": {},
   "outputs": [],
   "source": [
    "template1 = \"Give a summary of this employee's performance review:\\n{review}\"\n",
    "prompt1 = ChatPromptTemplate.from_template(template1)\n",
    "chain_1 = LLMChain(llm=llm,\n",
    "                     prompt=prompt1,\n",
    "                     output_key=\"review_summary\")"
   ]
  },
  {
   "cell_type": "code",
   "execution_count": 6,
   "id": "2a6c1d04-1fe0-4386-8b3a-4535cbfaff43",
   "metadata": {},
   "outputs": [],
   "source": [
    "template2 = \"Identify key employee weaknesses in this review summary:\\n{review_summary}\"\n",
    "prompt2 = ChatPromptTemplate.from_template(template2)\n",
    "chain_2 = LLMChain(llm=llm,\n",
    "                     prompt=prompt2,\n",
    "                     output_key=\"weaknesses\")"
   ]
  },
  {
   "cell_type": "code",
   "execution_count": 7,
   "id": "8031844b-586e-44b5-ac74-23b3767a9413",
   "metadata": {},
   "outputs": [],
   "source": [
    "template3 = \"Create a personalized plan to help address and fix these weaknesses:\\n{weaknesses}\"\n",
    "prompt3 = ChatPromptTemplate.from_template(template3)\n",
    "chain_3 = LLMChain(llm=llm,\n",
    "                     prompt=prompt3,\n",
    "                     output_key=\"final_plan\")"
   ]
  },
  {
   "cell_type": "code",
   "execution_count": 8,
   "id": "9e93a32e-3199-447c-ab17-22585d80422d",
   "metadata": {},
   "outputs": [],
   "source": [
    "seq_chain = SequentialChain(chains=[chain_1,chain_2,chain_3],\n",
    "                            input_variables=['review'],\n",
    "                            output_variables=['review_summary','weaknesses','final_plan'],\n",
    "                            verbose=True)"
   ]
  },
  {
   "cell_type": "code",
   "execution_count": 9,
   "id": "0e6013f5-40c9-401b-9d45-98b52de1bb3f",
   "metadata": {},
   "outputs": [],
   "source": [
    "employee_review = '''\n",
    "Employee Information:\n",
    "Name: Joe Schmo\n",
    "Position: Software Engineer\n",
    "Date of Review: July 14, 2023\n",
    "\n",
    "Strengths:\n",
    "Joe is a highly skilled software engineer with a deep understanding of programming languages, algorithms, and software development best practices. His technical expertise shines through in his ability to efficiently solve complex problems and deliver high-quality code.\n",
    "\n",
    "One of Joe's greatest strengths is his collaborative nature. He actively engages with cross-functional teams, contributing valuable insights and seeking input from others. His open-mindedness and willingness to learn from colleagues make him a true team player.\n",
    "\n",
    "Joe consistently demonstrates initiative and self-motivation. He takes the lead in seeking out new projects and challenges, and his proactive attitude has led to significant improvements in existing processes and systems. His dedication to self-improvement and growth is commendable.\n",
    "\n",
    "Another notable strength is Joe's adaptability. He has shown great flexibility in handling changing project requirements and learning new technologies. This adaptability allows him to seamlessly transition between different projects and tasks, making him a valuable asset to the team.\n",
    "\n",
    "Joe's problem-solving skills are exceptional. He approaches issues with a logical mindset and consistently finds effective solutions, often thinking outside the box. His ability to break down complex problems into manageable parts is key to his success in resolving issues efficiently.\n",
    "\n",
    "Weaknesses:\n",
    "While Joe possesses numerous strengths, there are a few areas where he could benefit from improvement. One such area is time management. Occasionally, Joe struggles with effectively managing his time, resulting in missed deadlines or the need for additional support to complete tasks on time. Developing better prioritization and time management techniques would greatly enhance his efficiency.\n",
    "\n",
    "Another area for improvement is Joe's written communication skills. While he communicates well verbally, there have been instances where his written documentation lacked clarity, leading to confusion among team members. Focusing on enhancing his written communication abilities will help him effectively convey ideas and instructions.\n",
    "\n",
    "Additionally, Joe tends to take on too many responsibilities and hesitates to delegate tasks to others. This can result in an excessive workload and potential burnout. Encouraging him to delegate tasks appropriately will not only alleviate his own workload but also foster a more balanced and productive team environment.\n",
    "'''"
   ]
  },
  {
   "cell_type": "code",
   "execution_count": 10,
   "id": "406813b0-b79d-4056-8dbc-923e1986df41",
   "metadata": {},
   "outputs": [
    {
     "name": "stderr",
     "output_type": "stream",
     "text": [
      "c:\\Users\\Suriya\\AppData\\Local\\Programs\\Python\\Python312\\Lib\\site-packages\\langchain_core\\_api\\deprecation.py:119: LangChainDeprecationWarning: The method `Chain.__call__` was deprecated in langchain 0.1.0 and will be removed in 0.2.0. Use invoke instead.\n",
      "  warn_deprecated(\n"
     ]
    },
    {
     "name": "stdout",
     "output_type": "stream",
     "text": [
      "\n",
      "\n",
      "\u001b[1m> Entering new SequentialChain chain...\u001b[0m\n",
      "\n",
      "\u001b[1m> Finished chain.\u001b[0m\n"
     ]
    }
   ],
   "source": [
    "results = seq_chain(employee_review)"
   ]
  },
  {
   "cell_type": "code",
   "execution_count": 11,
   "id": "be395801-2e84-4686-9203-3857f8b5934b",
   "metadata": {},
   "outputs": [
    {
     "data": {
      "text/plain": [
       "{'review': \"\\nEmployee Information:\\nName: Joe Schmo\\nPosition: Software Engineer\\nDate of Review: July 14, 2023\\n\\nStrengths:\\nJoe is a highly skilled software engineer with a deep understanding of programming languages, algorithms, and software development best practices. His technical expertise shines through in his ability to efficiently solve complex problems and deliver high-quality code.\\n\\nOne of Joe's greatest strengths is his collaborative nature. He actively engages with cross-functional teams, contributing valuable insights and seeking input from others. His open-mindedness and willingness to learn from colleagues make him a true team player.\\n\\nJoe consistently demonstrates initiative and self-motivation. He takes the lead in seeking out new projects and challenges, and his proactive attitude has led to significant improvements in existing processes and systems. His dedication to self-improvement and growth is commendable.\\n\\nAnother notable strength is Joe's adaptability. He has shown great flexibility in handling changing project requirements and learning new technologies. This adaptability allows him to seamlessly transition between different projects and tasks, making him a valuable asset to the team.\\n\\nJoe's problem-solving skills are exceptional. He approaches issues with a logical mindset and consistently finds effective solutions, often thinking outside the box. His ability to break down complex problems into manageable parts is key to his success in resolving issues efficiently.\\n\\nWeaknesses:\\nWhile Joe possesses numerous strengths, there are a few areas where he could benefit from improvement. One such area is time management. Occasionally, Joe struggles with effectively managing his time, resulting in missed deadlines or the need for additional support to complete tasks on time. Developing better prioritization and time management techniques would greatly enhance his efficiency.\\n\\nAnother area for improvement is Joe's written communication skills. While he communicates well verbally, there have been instances where his written documentation lacked clarity, leading to confusion among team members. Focusing on enhancing his written communication abilities will help him effectively convey ideas and instructions.\\n\\nAdditionally, Joe tends to take on too many responsibilities and hesitates to delegate tasks to others. This can result in an excessive workload and potential burnout. Encouraging him to delegate tasks appropriately will not only alleviate his own workload but also foster a more balanced and productive team environment.\\n\",\n",
       " 'review_summary': 'Overall, Joe Schmo is a highly skilled and collaborative software engineer who excels in problem-solving and adapting to new challenges. His proactive attitude, dedication to self-improvement, and ability to work effectively in a team make him a valuable asset. However, Joe could benefit from improving his time management skills, written communication abilities, and willingness to delegate tasks to others. Addressing these areas will help Joe further enhance his efficiency and effectiveness in the workplace.',\n",
       " 'weaknesses': 'Key weaknesses identified in the review summary for Joe Schmo include:\\n\\n1. Time management skills: Joe could benefit from improving his ability to prioritize tasks and manage his time effectively.\\n2. Written communication abilities: Joe needs to work on his written communication skills to ensure clear and effective communication with colleagues and stakeholders.\\n3. Willingness to delegate tasks: Joe should be more willing to delegate tasks to others in order to maximize efficiency and effectiveness in the workplace.',\n",
       " 'final_plan': \"Personalized Plan for Joe Schmo:\\n\\n1. Time management skills:\\n- Create a daily to-do list or schedule to prioritize tasks and allocate time accordingly.\\n- Utilize time management tools or apps to track progress and stay on schedule.\\n- Set specific goals and deadlines for each task to stay focused and motivated.\\n- Practice saying no to non-essential tasks or distractions that may derail your schedule.\\n\\n2. Written communication abilities:\\n- Take a writing course or workshop to improve grammar, spelling, and overall clarity in written communication.\\n- Ask for feedback from colleagues or supervisors on written documents to identify areas for improvement.\\n- Read professional literature or articles to expand your vocabulary and writing style.\\n- Practice writing regularly, whether it's emails, reports, or memos, to strengthen your skills over time.\\n\\n3. Willingness to delegate tasks:\\n- Identify tasks that can be delegated to others based on their strengths and expertise.\\n- Build trust in your team by clearly communicating expectations and providing necessary support.\\n- Start small by delegating minor tasks and gradually increase the level of responsibility as you gain confidence in your team members.\\n- Monitor progress and provide feedback to ensure tasks are completed efficiently and effectively.\\n\\nBy implementing these strategies and actively working on your weaknesses, Joe Schmo can improve his time management skills, written communication abilities, and willingness to delegate tasks, leading to increased productivity and success in the workplace.\"}"
      ]
     },
     "execution_count": 11,
     "metadata": {},
     "output_type": "execute_result"
    }
   ],
   "source": [
    "results"
   ]
  },
  {
   "cell_type": "code",
   "execution_count": 12,
   "id": "2edc6866-769b-47ee-921d-ae40eb9891eb",
   "metadata": {},
   "outputs": [
    {
     "name": "stdout",
     "output_type": "stream",
     "text": [
      "Personalized Plan for Joe Schmo:\n",
      "\n",
      "1. Time management skills:\n",
      "- Create a daily to-do list or schedule to prioritize tasks and allocate time accordingly.\n",
      "- Utilize time management tools or apps to track progress and stay on schedule.\n",
      "- Set specific goals and deadlines for each task to stay focused and motivated.\n",
      "- Practice saying no to non-essential tasks or distractions that may derail your schedule.\n",
      "\n",
      "2. Written communication abilities:\n",
      "- Take a writing course or workshop to improve grammar, spelling, and overall clarity in written communication.\n",
      "- Ask for feedback from colleagues or supervisors on written documents to identify areas for improvement.\n",
      "- Read professional literature or articles to expand your vocabulary and writing style.\n",
      "- Practice writing regularly, whether it's emails, reports, or memos, to strengthen your skills over time.\n",
      "\n",
      "3. Willingness to delegate tasks:\n",
      "- Identify tasks that can be delegated to others based on their strengths and expertise.\n",
      "- Build trust in your team by clearly communicating expectations and providing necessary support.\n",
      "- Start small by delegating minor tasks and gradually increase the level of responsibility as you gain confidence in your team members.\n",
      "- Monitor progress and provide feedback to ensure tasks are completed efficiently and effectively.\n",
      "\n",
      "By implementing these strategies and actively working on your weaknesses, Joe Schmo can improve his time management skills, written communication abilities, and willingness to delegate tasks, leading to increased productivity and success in the workplace.\n"
     ]
    }
   ],
   "source": [
    "print(results['final_plan'])"
   ]
  },
  {
   "cell_type": "code",
   "execution_count": null,
   "id": "15760213-e3a3-443a-9fe7-17d14c438ac5",
   "metadata": {},
   "outputs": [],
   "source": []
  },
  {
   "cell_type": "code",
   "execution_count": null,
   "id": "3838fd4e",
   "metadata": {},
   "outputs": [],
   "source": []
  },
  {
   "cell_type": "code",
   "execution_count": null,
   "id": "487b2b57",
   "metadata": {},
   "outputs": [],
   "source": []
  }
 ],
 "metadata": {
  "kernelspec": {
   "display_name": "Python 3 (ipykernel)",
   "language": "python",
   "name": "python3"
  },
  "language_info": {
   "codemirror_mode": {
    "name": "ipython",
    "version": 3
   },
   "file_extension": ".py",
   "mimetype": "text/x-python",
   "name": "python",
   "nbconvert_exporter": "python",
   "pygments_lexer": "ipython3",
   "version": "3.12.2"
  }
 },
 "nbformat": 4,
 "nbformat_minor": 5
}
