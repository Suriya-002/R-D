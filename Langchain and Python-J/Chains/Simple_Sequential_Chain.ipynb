{
 "cells": [
  {
   "cell_type": "code",
   "execution_count": 1,
   "metadata": {},
   "outputs": [],
   "source": [
    "from dotenv import load_dotenv\n",
    "import os\n",
    "\n",
    "load_dotenv()\n",
    "\n",
    "api_key = os.getenv(\"OPENAI_API_KEY\")"
   ]
  },
  {
   "cell_type": "code",
   "execution_count": 3,
   "metadata": {},
   "outputs": [],
   "source": [
    "from langchain.chat_models import ChatOpenAI\n",
    "from langchain.prompts.chat import HumanMessagePromptTemplate, ChatPromptTemplate\n",
    "from langchain.chains import LLMChain, SimpleSequentialChain"
   ]
  },
  {
   "cell_type": "code",
   "execution_count": 4,
   "metadata": {},
   "outputs": [],
   "source": [
    "llm = ChatOpenAI(api_key= api_key)"
   ]
  },
  {
   "cell_type": "code",
   "execution_count": 5,
   "metadata": {},
   "outputs": [],
   "source": [
    "# TOPIC ---> [[OUTLINE ---> CREATE BLOG POST FROM OUTLINE]] --> BLOG POST TEXT"
   ]
  },
  {
   "cell_type": "code",
   "execution_count": 6,
   "metadata": {},
   "outputs": [],
   "source": [
    "template = \"Give me a simple bullet point outline for a blog post on {topic}\"\n",
    "\n",
    "first_prompt = ChatPromptTemplate.from_template(template)\n",
    "\n",
    "chain_one = LLMChain(llm=llm, prompt= first_prompt)"
   ]
  },
  {
   "cell_type": "code",
   "execution_count": 7,
   "metadata": {},
   "outputs": [],
   "source": [
    "template_two = \"Write a blog post using this outline : {outline}\"\n",
    "second_prompt = ChatPromptTemplate.from_template(template_two)\n",
    "chain_two = LLMChain(llm=llm, prompt=second_prompt)"
   ]
  },
  {
   "cell_type": "code",
   "execution_count": 8,
   "metadata": {},
   "outputs": [],
   "source": [
    "full_chain = SimpleSequentialChain(chains = [chain_one, chain_two], verbose = True)"
   ]
  },
  {
   "cell_type": "code",
   "execution_count": 9,
   "metadata": {},
   "outputs": [
    {
     "name": "stdout",
     "output_type": "stream",
     "text": [
      "\n",
      "\n",
      "\u001b[1m> Entering new SimpleSequentialChain chain...\u001b[0m\n",
      "\u001b[36;1m\u001b[1;3m- Introduction to AI and its growing importance in various industries\n",
      "- Explanation of what AI is and how it works\n",
      "- Benefits of using AI in businesses, such as improved efficiency and decision-making\n",
      "- Examples of real-world applications of AI, such as chatbots and self-driving cars\n",
      "- Potential ethical concerns and challenges of AI technology\n",
      "- Conclusion on the future of AI and its impact on society\u001b[0m\n",
      "\u001b[33;1m\u001b[1;3mIn recent years, artificial intelligence (AI) has become a hot topic in various industries, from healthcare to finance to retail. As technology continues to advance at a rapid pace, the importance of AI in business operations cannot be overstated. In this blog post, we will explore what AI is, how it works, its benefits, real-world applications, ethical concerns, and the future impact of AI on society.\n",
      "\n",
      "What is AI? AI is a branch of computer science that aims to create intelligent machines that can perform tasks that typically require human intelligence, such as visual perception, speech recognition, decision-making, and language translation. AI works by analyzing large amounts of data, identifying patterns, and using algorithms to make predictions or decisions.\n",
      "\n",
      "The benefits of using AI in businesses are numerous. AI can help improve efficiency by automating repetitive tasks, increase productivity by allowing employees to focus on more strategic tasks, and enhance decision-making by providing data-driven insights. For example, AI-powered chatbots can handle customer queries 24/7, while self-driving cars can improve road safety and reduce accidents.\n",
      "\n",
      "Real-world applications of AI are already widespread. In healthcare, AI is used to analyze medical images, diagnose diseases, and personalize treatment plans. In finance, AI is used for fraud detection, risk assessment, and algorithmic trading. In retail, AI is used for personalized recommendations, inventory management, and supply chain optimization.\n",
      "\n",
      "However, the rise of AI also raises ethical concerns and challenges. One major concern is the potential impact of AI on jobs, as automation could lead to job displacement and income inequality. There are also concerns about bias in AI algorithms, data privacy, and the potential misuse of AI for surveillance or warfare.\n",
      "\n",
      "In conclusion, the future of AI is both exciting and daunting. While AI has the potential to revolutionize industries and improve our lives, it also raises important ethical questions that must be addressed. As AI continues to evolve, it is crucial for businesses, governments, and society to work together to ensure that AI is developed and used responsibly for the benefit of all.\u001b[0m\n",
      "\n",
      "\u001b[1m> Finished chain.\u001b[0m\n"
     ]
    }
   ],
   "source": [
    "res = full_chain.run(\"AI\")"
   ]
  },
  {
   "cell_type": "code",
   "execution_count": 10,
   "metadata": {},
   "outputs": [
    {
     "name": "stdout",
     "output_type": "stream",
     "text": [
      "In recent years, artificial intelligence (AI) has become a hot topic in various industries, from healthcare to finance to retail. As technology continues to advance at a rapid pace, the importance of AI in business operations cannot be overstated. In this blog post, we will explore what AI is, how it works, its benefits, real-world applications, ethical concerns, and the future impact of AI on society.\n",
      "\n",
      "What is AI? AI is a branch of computer science that aims to create intelligent machines that can perform tasks that typically require human intelligence, such as visual perception, speech recognition, decision-making, and language translation. AI works by analyzing large amounts of data, identifying patterns, and using algorithms to make predictions or decisions.\n",
      "\n",
      "The benefits of using AI in businesses are numerous. AI can help improve efficiency by automating repetitive tasks, increase productivity by allowing employees to focus on more strategic tasks, and enhance decision-making by providing data-driven insights. For example, AI-powered chatbots can handle customer queries 24/7, while self-driving cars can improve road safety and reduce accidents.\n",
      "\n",
      "Real-world applications of AI are already widespread. In healthcare, AI is used to analyze medical images, diagnose diseases, and personalize treatment plans. In finance, AI is used for fraud detection, risk assessment, and algorithmic trading. In retail, AI is used for personalized recommendations, inventory management, and supply chain optimization.\n",
      "\n",
      "However, the rise of AI also raises ethical concerns and challenges. One major concern is the potential impact of AI on jobs, as automation could lead to job displacement and income inequality. There are also concerns about bias in AI algorithms, data privacy, and the potential misuse of AI for surveillance or warfare.\n",
      "\n",
      "In conclusion, the future of AI is both exciting and daunting. While AI has the potential to revolutionize industries and improve our lives, it also raises important ethical questions that must be addressed. As AI continues to evolve, it is crucial for businesses, governments, and society to work together to ensure that AI is developed and used responsibly for the benefit of all.\n"
     ]
    }
   ],
   "source": [
    "print(res)"
   ]
  },
  {
   "cell_type": "code",
   "execution_count": null,
   "metadata": {},
   "outputs": [],
   "source": []
  }
 ],
 "metadata": {
  "kernelspec": {
   "display_name": "Python 3",
   "language": "python",
   "name": "python3"
  },
  "language_info": {
   "codemirror_mode": {
    "name": "ipython",
    "version": 3
   },
   "file_extension": ".py",
   "mimetype": "text/x-python",
   "name": "python",
   "nbconvert_exporter": "python",
   "pygments_lexer": "ipython3",
   "version": "3.12.2"
  }
 },
 "nbformat": 4,
 "nbformat_minor": 2
}
