{
 "cells": [
  {
   "cell_type": "code",
   "execution_count": 1,
   "metadata": {},
   "outputs": [],
   "source": [
    "import langchain\n",
    "\n",
    "from langchain.llms import OpenAI\n",
    "from langchain.chat_models import ChatOpenAI"
   ]
  },
  {
   "cell_type": "code",
   "execution_count": 4,
   "metadata": {},
   "outputs": [],
   "source": [
    "from dotenv import load_dotenv\n",
    "import os\n",
    "\n",
    "load_dotenv()  \n",
    "\n",
    "\n",
    "openai_api_key = os.getenv('OPENAI_API_KEY')\n"
   ]
  },
  {
   "cell_type": "code",
   "execution_count": 6,
   "metadata": {},
   "outputs": [
    {
     "name": "stderr",
     "output_type": "stream",
     "text": [
      "c:\\Users\\Suriya\\AppData\\Local\\Programs\\Python\\Python312\\Lib\\site-packages\\langchain_core\\_api\\deprecation.py:119: LangChainDeprecationWarning: The class `OpenAI` was deprecated in LangChain 0.0.10 and will be removed in 0.2.0. An updated version of the class exists in the langchain-openai package and should be used instead. To use it run `pip install -U langchain-openai` and import as `from langchain_openai import OpenAI`.\n",
      "  warn_deprecated(\n"
     ]
    }
   ],
   "source": [
    "chat = ChatOpenAI(api_key = api_key)\n",
    "llm = OpenAI(api_key= api_key)"
   ]
  },
  {
   "cell_type": "code",
   "execution_count": 7,
   "metadata": {},
   "outputs": [
    {
     "name": "stderr",
     "output_type": "stream",
     "text": [
      "c:\\Users\\Suriya\\AppData\\Local\\Programs\\Python\\Python312\\Lib\\site-packages\\langchain_core\\_api\\deprecation.py:119: LangChainDeprecationWarning: The method `BaseLLM.__call__` was deprecated in langchain-core 0.1.7 and will be removed in 0.2.0. Use invoke instead.\n",
      "  warn_deprecated(\n"
     ]
    },
    {
     "data": {
      "text/plain": [
       "'\\n\\n- Tamil Nadu is a state in the southern part of India, bordering the Bay of Bengal.\\n- It has a population of over 72 million people, making it the seventh most populous state in India.\\n- The capital of Tamil Nadu is Chennai, which is also the largest city in the state.\\n- Tamil Nadu has a rich cultural heritage, with a history dating back to over 2,000 years.\\n- It is known as the \"Land of Temples\" and has many famous Hindu temples such as the Meenakshi Temple in Madurai and the Brihadeeswarar Temple in Thanjavur.\\n- Tamil is the official language of the state, and Tamil Nadu is one of the few states in India where the majority of the population speaks the same language.\\n- The state is known for its classical dance form, Bharatanatyam, and its traditional music, including Carnatic music.\\n- Tamil Nadu has a diverse landscape, with beaches, mountains, forests, and urban areas.\\n- The state is a major producer of agricultural products, including rice, sugarcane, and cotton.\\n- It is also one of the leading states in India for industrial development, with industries such as automobile manufacturing, textiles, and electronics.'"
      ]
     },
     "execution_count": 7,
     "metadata": {},
     "output_type": "execute_result"
    }
   ],
   "source": [
    "llm('Here is a few facts about Tamil Nadu')"
   ]
  },
  {
   "cell_type": "code",
   "execution_count": 8,
   "metadata": {},
   "outputs": [],
   "source": [
    "from langchain import PromptTemplate"
   ]
  },
  {
   "cell_type": "code",
   "execution_count": 16,
   "metadata": {},
   "outputs": [],
   "source": [
    "single_input_prompt = PromptTemplate(input_variables=['topic'],\n",
    "                        template = 'Tell me facts about {topic}')"
   ]
  },
  {
   "cell_type": "code",
   "execution_count": 17,
   "metadata": {},
   "outputs": [
    {
     "data": {
      "text/plain": [
       "'\\n\\n1. Kerala is a state located in the southwestern region of India.\\n\\n2. It is known as the \"God\\'s Own Country\" due to its natural beauty and cultural heritage.\\n\\n3. The state has a population of over 33 million people, making it the 13th most populous state in India.\\n\\n4. Kerala is the first state in India to achieve 100% literacy rate, with both male and female literacy rates at 94%.\\n\\n5. The state has a diverse cultural and religious background, with Hindus, Muslims, and Christians living in harmony.\\n\\n6. It is known for its Ayurvedic treatments and traditional medicine, which have been practiced for centuries.\\n\\n7. Kerala is also home to numerous wildlife sanctuaries, including the Periyar National Park, which is a popular destination for wildlife enthusiasts.\\n\\n8. The state has a tropical climate, with the monsoon season bringing heavy rainfall from June to September.\\n\\n9. Kerala is famous for its backwaters, a network of interconnected canals, rivers, and lakes that are a popular tourist attraction.\\n\\n10. The state is also known for its cuisine, which is heavily influenced by its coastal location and includes dishes like appam, puttu, and fish curry.\\n\\n11. Kerala has the highest life'"
      ]
     },
     "execution_count": 17,
     "metadata": {},
     "output_type": "execute_result"
    }
   ],
   "source": [
    "llm(single_input_prompt.format(topic = 'Kerala'))"
   ]
  },
  {
   "cell_type": "code",
   "execution_count": 20,
   "metadata": {},
   "outputs": [],
   "source": [
    "from langchain.prompts import ChatPromptTemplate, PromptTemplate, SystemMessagePromptTemplate, AIMessagePromptTemplate, HumanMessagePromptTemplate\n",
    "\n",
    "from langchain.schema import AIMessage, HumanMessage, SystemMessage"
   ]
  },
  {
   "cell_type": "code",
   "execution_count": 44,
   "metadata": {},
   "outputs": [],
   "source": [
    "system_template = \"You are an AI tour guide who specializes in {place} and the {foods} that are available in {place}\""
   ]
  },
  {
   "cell_type": "code",
   "execution_count": 45,
   "metadata": {},
   "outputs": [],
   "source": [
    "system_message_prompt = SystemMessagePromptTemplate.from_template(system_template)"
   ]
  },
  {
   "cell_type": "code",
   "execution_count": 46,
   "metadata": {},
   "outputs": [],
   "source": [
    "human_template = \"{place_request}\""
   ]
  },
  {
   "cell_type": "code",
   "execution_count": 47,
   "metadata": {},
   "outputs": [],
   "source": [
    "human_message_prompt = HumanMessagePromptTemplate.from_template(human_template)"
   ]
  },
  {
   "cell_type": "code",
   "execution_count": 48,
   "metadata": {},
   "outputs": [
    {
     "data": {
      "text/plain": [
       "['foods', 'place']"
      ]
     },
     "execution_count": 48,
     "metadata": {},
     "output_type": "execute_result"
    }
   ],
   "source": [
    "system_message_prompt.input_variables"
   ]
  },
  {
   "cell_type": "code",
   "execution_count": 49,
   "metadata": {},
   "outputs": [
    {
     "data": {
      "text/plain": [
       "['place_request']"
      ]
     },
     "execution_count": 49,
     "metadata": {},
     "output_type": "execute_result"
    }
   ],
   "source": [
    "human_message_prompt.input_variables"
   ]
  },
  {
   "cell_type": "code",
   "execution_count": 50,
   "metadata": {},
   "outputs": [],
   "source": [
    "chat_prompt = ChatPromptTemplate.from_messages([system_message_prompt, human_message_prompt])"
   ]
  },
  {
   "cell_type": "code",
   "execution_count": 51,
   "metadata": {},
   "outputs": [
    {
     "data": {
      "text/plain": [
       "['foods', 'place', 'place_request']"
      ]
     },
     "execution_count": 51,
     "metadata": {},
     "output_type": "execute_result"
    }
   ],
   "source": [
    "chat_prompt.input_variables"
   ]
  },
  {
   "cell_type": "code",
   "execution_count": 57,
   "metadata": {},
   "outputs": [],
   "source": [
    "prompt = chat_prompt.format_prompt(place_request = 'Salem',\n",
    "                                   foods = 'anything', \n",
    "                                   place = 'Salem').to_messages()"
   ]
  },
  {
   "cell_type": "code",
   "execution_count": 58,
   "metadata": {},
   "outputs": [
    {
     "data": {
      "text/plain": [
       "AIMessage(content=\"Welcome to Salem! Known for its rich history, witch trials, and maritime heritage, Salem is a vibrant city located in Massachusetts, USA. There are plenty of things to see and do in Salem, from visiting historic sites to exploring museums and enjoying local cuisine. \\n\\nSome of the must-visit attractions in Salem include:\\n\\n1. The Salem Witch Museum: Learn about the infamous Salem Witch Trials of 1692 and explore the history of witchcraft through interactive exhibits and presentations.\\n\\n2. The House of the Seven Gables: Visit this historic mansion, made famous by Nathaniel Hawthorne's novel, and explore its beautiful gardens and maritime history.\\n\\n3. Peabody Essex Museum: Discover a diverse collection of art and cultural artifacts from around the world at this renowned museum.\\n\\n4. Salem Maritime National Historic Site: Explore the historic waterfront and learn about Salem's maritime history through guided tours and exhibits.\\n\\n5. Salem Witch Trials Memorial: Pay your respects to the victims of the Salem Witch Trials at this somber memorial located near the site of the original trials.\\n\\n6. Pickering Wharf: Enjoy shopping, dining, and waterfront views at this bustling area filled with shops, restaurants, and attractions.\\n\\nWhether you're interested in history, culture, or simply exploring a charming New England town, Salem has something for everyone. Feel free to ask if you have any specific interests or questions about Salem!\", response_metadata={'token_usage': {'completion_tokens': 279, 'prompt_tokens': 31, 'total_tokens': 310}, 'model_name': 'gpt-3.5-turbo', 'system_fingerprint': 'fp_c2295e73ad', 'finish_reason': 'stop', 'logprobs': None}, id='run-596fa3cc-768b-4e8c-a02b-ce18a98d46a9-0')"
      ]
     },
     "execution_count": 58,
     "metadata": {},
     "output_type": "execute_result"
    }
   ],
   "source": [
    "chat(prompt)"
   ]
  },
  {
   "cell_type": "code",
   "execution_count": null,
   "metadata": {},
   "outputs": [],
   "source": []
  }
 ],
 "metadata": {
  "kernelspec": {
   "display_name": "Python 3",
   "language": "python",
   "name": "python3"
  },
  "language_info": {
   "codemirror_mode": {
    "name": "ipython",
    "version": 3
   },
   "file_extension": ".py",
   "mimetype": "text/x-python",
   "name": "python",
   "nbconvert_exporter": "python",
   "pygments_lexer": "ipython3",
   "version": "3.12.2"
  }
 },
 "nbformat": 4,
 "nbformat_minor": 2
}
