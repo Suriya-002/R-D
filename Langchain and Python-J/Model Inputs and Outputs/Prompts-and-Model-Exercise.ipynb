{
 "cells": [
  {
   "cell_type": "code",
   "execution_count": 27,
   "id": "b4e6adae-ddfa-403f-afbc-eac1ff964c54",
   "metadata": {},
   "outputs": [],
   "source": [
    "from dotenv import load_dotenv\n",
    "from langchain.prompts import SystemMessagePromptTemplate, HumanMessagePromptTemplate, ChatPromptTemplate\n",
    "from langchain.chat_models import ChatOpenAI\n",
    "import os\n",
    "load_dotenv()\n",
    "\n",
    "api_key = os.getenv('OPENAI_API_KEY')\n",
    "\n",
    "\n",
    "def travel_idea(interest, budget):\n",
    "    '''\n",
    "    INPUTS:\n",
    "        interest: A str interest or hobby (e.g., fishing)\n",
    "        budget: A str budget (e.g., $10,000)\n",
    "    '''\n",
    "    system_template = \"You're a tour traveller partner who specializes in the customer's interest i.e., {interest} with the budget of {budget}\"\n",
    "    system_message_template = SystemMessagePromptTemplate.from_template(system_template)\n",
    "\n",
    "    human_template = \"Please give me an example Itinerary\"\n",
    "    human_message_template = HumanMessagePromptTemplate.from_template(human_template)\n",
    "\n",
    "    chat_prompt = ChatPromptTemplate.from_messages([system_message_template, human_message_template])\n",
    "\n",
    "    # Ensure to pass keyword arguments corresponding to placeholders\n",
    "    request = chat_prompt.format_prompt(interest=interest, budget=budget).to_messages()\n",
    "\n",
    "    chat = ChatOpenAI(api_key=api_key)\n",
    "\n",
    "    res = chat(request)\n",
    "\n",
    "    return res.content\n"
   ]
  },
  {
   "cell_type": "code",
   "execution_count": 28,
   "id": "f7e240b6-96cf-4163-ad19-90a44cf7ef24",
   "metadata": {},
   "outputs": [
    {
     "name": "stdout",
     "output_type": "stream",
     "text": [
      "Certainly! Here is an example itinerary for a fishing-focused tour with a budget of $10,000:\n",
      "\n",
      "Day 1: Arrival in a fishing hotspot destination (e.g., Key West, Florida). Check into a comfortable hotel near the fishing grounds. Rest and relax after your journey.\n",
      "\n",
      "Day 2-4: Enjoy three full days of guided fishing excursions. Charter a boat with an experienced captain who will take you to the best fishing spots in the area. Target a variety of fish species such as tarpon, snook, and redfish. All fishing equipment, bait, and licenses will be provided.\n",
      "\n",
      "Day 5: Take a break from fishing and explore the local area. Visit a nearby fishing village, enjoy fresh seafood at a waterfront restaurant, or relax on the beach.\n",
      "\n",
      "Day 6-8: Travel to another fishing destination (e.g., Cabo San Lucas, Mexico). Check into a resort with access to deep-sea fishing charters. Spend three days chasing marlin, tuna, and dorado in the crystal-clear waters of the Pacific Ocean.\n",
      "\n",
      "Day 9: Relax and unwind at the resort. Take advantage of the amenities such as spa treatments, poolside lounging, or beach activities.\n",
      "\n",
      "Day 10-12: Head to your final fishing destination (e.g., Alaska). Stay at a remote fishing lodge surrounded by pristine wilderness. Enjoy guided fly fishing excursions for salmon, trout, and grayling in the area's rivers and streams.\n",
      "\n",
      "Day 13: Participate in a local fishing tournament or competition if available. Test your skills against other anglers and enjoy the camaraderie of fellow fishing enthusiasts.\n",
      "\n",
      "Day 14: Departure day. Transfer to the airport for your journey home, filled with unforgettable fishing experiences and memories.\n",
      "\n",
      "This itinerary includes accommodation, transportation between destinations, guided fishing excursions, meals, and some leisure activities within the $10,000 budget. Prices may vary depending on the destination, season, and specific activities chosen. Additional customization can be made based on your preferences and interests.\n"
     ]
    }
   ],
   "source": [
    "print(travel_idea('fishing','$10,000'))"
   ]
  },
  {
   "cell_type": "code",
   "execution_count": null,
   "id": "bcb56b38",
   "metadata": {},
   "outputs": [],
   "source": []
  },
  {
   "cell_type": "code",
   "execution_count": null,
   "id": "da24f383",
   "metadata": {},
   "outputs": [],
   "source": []
  }
 ],
 "metadata": {
  "kernelspec": {
   "display_name": "Python 3 (ipykernel)",
   "language": "python",
   "name": "python3"
  },
  "language_info": {
   "codemirror_mode": {
    "name": "ipython",
    "version": 3
   },
   "file_extension": ".py",
   "mimetype": "text/x-python",
   "name": "python",
   "nbconvert_exporter": "python",
   "pygments_lexer": "ipython3",
   "version": "3.12.2"
  }
 },
 "nbformat": 4,
 "nbformat_minor": 5
}
