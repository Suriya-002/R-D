{
 "cells": [
  {
   "cell_type": "code",
   "execution_count": 4,
   "metadata": {},
   "outputs": [],
   "source": [
    "from dotenv import load_dotenv\n",
    "import os\n",
    "\n",
    "load_dotenv()\n",
    "\n",
    "api_key = os.getenv('OPENAI_API_KEY')"
   ]
  },
  {
   "cell_type": "code",
   "execution_count": 5,
   "metadata": {},
   "outputs": [],
   "source": [
    "from langchain.chat_models import ChatOpenAI\n",
    "from langchain.chains import ConversationChain\n",
    "from langchain.memory import ConversationSummaryBufferMemory"
   ]
  },
  {
   "cell_type": "code",
   "execution_count": 6,
   "metadata": {},
   "outputs": [],
   "source": [
    "llm = ChatOpenAI(api_key= api_key)\n",
    "memory = ConversationSummaryBufferMemory(llm = llm, max_token_limit = 200)"
   ]
  },
  {
   "cell_type": "code",
   "execution_count": 8,
   "metadata": {},
   "outputs": [],
   "source": [
    "conversation = ConversationChain(llm = llm, memory = memory)"
   ]
  },
  {
   "cell_type": "code",
   "execution_count": 9,
   "metadata": {},
   "outputs": [
    {
     "data": {
      "text/plain": [
       "\"Sure! Venice is a beautiful city in Italy known for its canals, gondolas, and stunning architecture. I recommend starting your day with a visit to St. Mark's Basilica, a famous church in the heart of the city. After that, take a gondola ride along the Grand Canal to see the historic palaces and buildings that line the waterway. Don't forget to visit the Rialto Bridge, one of the most iconic landmarks in Venice. For lunch, try some traditional Venetian dishes like seafood risotto or cicchetti (small plates of appetizers) at a local bacaro. In the afternoon, explore the charming neighborhoods of Dorsoduro and Cannaregio, where you can discover hidden gems and local shops. End your day with a leisurely stroll in Piazza San Marco, taking in the beauty of the architecture and maybe even catching a live music performance. Enjoy your trip to Venice!\""
      ]
     },
     "execution_count": 9,
     "metadata": {},
     "output_type": "execute_result"
    }
   ],
   "source": [
    "conversation.predict(input = 'Give me a travel plan for Venice')"
   ]
  },
  {
   "cell_type": "code",
   "execution_count": 10,
   "metadata": {},
   "outputs": [
    {
     "data": {
      "text/plain": [
       "\"There are several nice hotels in Venice that you can consider for your stay. Some popular options include the Gritti Palace, a luxurious hotel located on the Grand Canal with stunning views and top-notch amenities. Another great choice is the Belmond Hotel Cipriani, a five-star hotel on the island of Giudecca offering a peaceful retreat away from the hustle and bustle of the city. If you prefer a more boutique experience, the Ca' Sagredo Hotel is a beautiful 15th-century palace overlooking the Grand Canal, known for its elegant decor and personalized service. These are just a few options to consider for your stay in Venice. Enjoy your trip!\""
      ]
     },
     "execution_count": 10,
     "metadata": {},
     "output_type": "execute_result"
    }
   ],
   "source": [
    "conversation.predict(input = 'Give me some nice hotels to stay there')"
   ]
  },
  {
   "cell_type": "code",
   "execution_count": 12,
   "metadata": {},
   "outputs": [
    {
     "data": {
      "text/plain": [
       "'In Venice, the primary mode of transportation is by water, as the city is made up of a series of islands connected by canals. The most popular way to get around is by vaporetto, which are water buses that run along the main canals and make stops at various locations throughout the city. You can purchase tickets for the vaporetto at kiosks located near the water bus stops or online. Another option is to take a water taxi, which is a more expensive but more private way to travel around Venice. You can also explore the city on foot, as many of the main attractions are within walking distance of each other. Keep in mind that Venice is a pedestrian-friendly city with narrow streets and alleys, so be prepared to do a lot of walking during your visit. Enjoy exploring Venice by water and on foot!'"
      ]
     },
     "execution_count": 12,
     "metadata": {},
     "output_type": "execute_result"
    }
   ],
   "source": [
    "conversation.predict(input = 'How can I use transport there?')"
   ]
  },
  {
   "cell_type": "code",
   "execution_count": null,
   "metadata": {},
   "outputs": [],
   "source": []
  }
 ],
 "metadata": {
  "kernelspec": {
   "display_name": "Python 3",
   "language": "python",
   "name": "python3"
  },
  "language_info": {
   "codemirror_mode": {
    "name": "ipython",
    "version": 3
   },
   "file_extension": ".py",
   "mimetype": "text/x-python",
   "name": "python",
   "nbconvert_exporter": "python",
   "pygments_lexer": "ipython3",
   "version": "3.12.2"
  }
 },
 "nbformat": 4,
 "nbformat_minor": 2
}
