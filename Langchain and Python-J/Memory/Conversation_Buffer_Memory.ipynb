{
 "cells": [
  {
   "cell_type": "code",
   "execution_count": 1,
   "metadata": {},
   "outputs": [],
   "source": [
    "from dotenv import load_dotenv\n",
    "import os\n",
    "\n",
    "load_dotenv()\n",
    "\n",
    "api_key = os.getenv('OPENAI_API_KEY')"
   ]
  },
  {
   "cell_type": "code",
   "execution_count": 2,
   "metadata": {},
   "outputs": [],
   "source": [
    "from langchain.chat_models import ChatOpenAI\n",
    "from langchain.chains import ConversationChain\n",
    "from langchain.memory import ConversationBufferMemory"
   ]
  },
  {
   "cell_type": "code",
   "execution_count": 3,
   "metadata": {},
   "outputs": [],
   "source": [
    "llm = ChatOpenAI(api_key= api_key)\n",
    "memory = ConversationBufferMemory()"
   ]
  },
  {
   "cell_type": "code",
   "execution_count": 4,
   "metadata": {},
   "outputs": [],
   "source": [
    "conversation = ConversationChain(llm=llm, memory= memory, verbose=True)"
   ]
  },
  {
   "cell_type": "code",
   "execution_count": 5,
   "metadata": {},
   "outputs": [
    {
     "name": "stdout",
     "output_type": "stream",
     "text": [
      "\n",
      "\n",
      "\u001b[1m> Entering new ConversationChain chain...\u001b[0m\n",
      "Prompt after formatting:\n",
      "\u001b[32;1m\u001b[1;3mThe following is a friendly conversation between a human and an AI. The AI is talkative and provides lots of specific details from its context. If the AI does not know the answer to a question, it truthfully says it does not know.\n",
      "\n",
      "Current conversation:\n",
      "\n",
      "Human: Hello, Nice to meet you\n",
      "AI:\u001b[0m\n",
      "\n",
      "\u001b[1m> Finished chain.\u001b[0m\n"
     ]
    },
    {
     "data": {
      "text/plain": [
       "\"Hello! It's a pleasure to meet you as well. I am an AI designed to assist you with any questions or information you may need. How can I help you today?\""
      ]
     },
     "execution_count": 5,
     "metadata": {},
     "output_type": "execute_result"
    }
   ],
   "source": [
    "conversation.predict(input = 'Hello, Nice to meet you')"
   ]
  },
  {
   "cell_type": "code",
   "execution_count": 6,
   "metadata": {},
   "outputs": [
    {
     "name": "stdout",
     "output_type": "stream",
     "text": [
      "\n",
      "\n",
      "\u001b[1m> Entering new ConversationChain chain...\u001b[0m\n",
      "Prompt after formatting:\n",
      "\u001b[32;1m\u001b[1;3mThe following is a friendly conversation between a human and an AI. The AI is talkative and provides lots of specific details from its context. If the AI does not know the answer to a question, it truthfully says it does not know.\n",
      "\n",
      "Current conversation:\n",
      "Human: Hello, Nice to meet you\n",
      "AI: Hello! It's a pleasure to meet you as well. I am an AI designed to assist you with any questions or information you may need. How can I help you today?\n",
      "Human: Tell me an interesting fact about matches malone\n",
      "AI:\u001b[0m\n",
      "\n",
      "\u001b[1m> Finished chain.\u001b[0m\n"
     ]
    },
    {
     "data": {
      "text/plain": [
       "\"Matches Malone is actually a persona used by Batman in the DC Comics universe. Matches is a notorious underworld figure who works as a criminal enforcer. Batman adopts this identity to infiltrate and gather information from Gotham City's criminal underworld. The persona of Matches Malone allows Batman to gather valuable intel and take down criminal organizations from within. It's a fascinating aspect of Batman's character and shows his cunning and strategic thinking in his fight against crime.\""
      ]
     },
     "execution_count": 6,
     "metadata": {},
     "output_type": "execute_result"
    }
   ],
   "source": [
    "conversation.predict(input = 'Tell me an interesting fact about matches malone')"
   ]
  },
  {
   "cell_type": "code",
   "execution_count": 7,
   "metadata": {},
   "outputs": [
    {
     "data": {
      "text/plain": [
       "ConversationBufferMemory(chat_memory=ChatMessageHistory(messages=[HumanMessage(content='Hello, Nice to meet you'), AIMessage(content=\"Hello! It's a pleasure to meet you as well. I am an AI designed to assist you with any questions or information you may need. How can I help you today?\"), HumanMessage(content='Tell me an interesting fact about matches malone'), AIMessage(content=\"Matches Malone is actually a persona used by Batman in the DC Comics universe. Matches is a notorious underworld figure who works as a criminal enforcer. Batman adopts this identity to infiltrate and gather information from Gotham City's criminal underworld. The persona of Matches Malone allows Batman to gather valuable intel and take down criminal organizations from within. It's a fascinating aspect of Batman's character and shows his cunning and strategic thinking in his fight against crime.\")]))"
      ]
     },
     "execution_count": 7,
     "metadata": {},
     "output_type": "execute_result"
    }
   ],
   "source": [
    "memory"
   ]
  },
  {
   "cell_type": "code",
   "execution_count": 8,
   "metadata": {},
   "outputs": [
    {
     "name": "stdout",
     "output_type": "stream",
     "text": [
      "Human: Hello, Nice to meet you\n",
      "AI: Hello! It's a pleasure to meet you as well. I am an AI designed to assist you with any questions or information you may need. How can I help you today?\n",
      "Human: Tell me an interesting fact about matches malone\n",
      "AI: Matches Malone is actually a persona used by Batman in the DC Comics universe. Matches is a notorious underworld figure who works as a criminal enforcer. Batman adopts this identity to infiltrate and gather information from Gotham City's criminal underworld. The persona of Matches Malone allows Batman to gather valuable intel and take down criminal organizations from within. It's a fascinating aspect of Batman's character and shows his cunning and strategic thinking in his fight against crime.\n"
     ]
    }
   ],
   "source": [
    "print(memory.buffer)"
   ]
  },
  {
   "cell_type": "code",
   "execution_count": 9,
   "metadata": {},
   "outputs": [],
   "source": [
    "import pickle \n",
    "pickled_str = pickle.dumps(conversation.memory)"
   ]
  },
  {
   "cell_type": "code",
   "execution_count": 10,
   "metadata": {},
   "outputs": [],
   "source": [
    "with open('convo_memory.pkl', 'wb') as f:\n",
    "    f.write(pickled_str)"
   ]
  },
  {
   "cell_type": "code",
   "execution_count": 11,
   "metadata": {},
   "outputs": [],
   "source": [
    "new_memory_load = open('convo_memory.pkl', 'rb').read()"
   ]
  },
  {
   "cell_type": "code",
   "execution_count": 12,
   "metadata": {},
   "outputs": [],
   "source": [
    "realoaded_conversation = ConversationChain(llm= llm, memory = pickle.loads(new_memory_load), verbose= True)"
   ]
  },
  {
   "cell_type": "code",
   "execution_count": 13,
   "metadata": {},
   "outputs": [
    {
     "name": "stdout",
     "output_type": "stream",
     "text": [
      "Human: Hello, Nice to meet you\n",
      "AI: Hello! It's a pleasure to meet you as well. I am an AI designed to assist you with any questions or information you may need. How can I help you today?\n",
      "Human: Tell me an interesting fact about matches malone\n",
      "AI: Matches Malone is actually a persona used by Batman in the DC Comics universe. Matches is a notorious underworld figure who works as a criminal enforcer. Batman adopts this identity to infiltrate and gather information from Gotham City's criminal underworld. The persona of Matches Malone allows Batman to gather valuable intel and take down criminal organizations from within. It's a fascinating aspect of Batman's character and shows his cunning and strategic thinking in his fight against crime.\n"
     ]
    }
   ],
   "source": [
    "print(realoaded_conversation.memory.buffer)"
   ]
  },
  {
   "cell_type": "code",
   "execution_count": null,
   "metadata": {},
   "outputs": [],
   "source": []
  }
 ],
 "metadata": {
  "kernelspec": {
   "display_name": "Python 3",
   "language": "python",
   "name": "python3"
  },
  "language_info": {
   "codemirror_mode": {
    "name": "ipython",
    "version": 3
   },
   "file_extension": ".py",
   "mimetype": "text/x-python",
   "name": "python",
   "nbconvert_exporter": "python",
   "pygments_lexer": "ipython3",
   "version": "3.12.2"
  }
 },
 "nbformat": 4,
 "nbformat_minor": 2
}
