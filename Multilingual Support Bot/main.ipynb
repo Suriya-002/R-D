{
 "cells": [
  {
   "cell_type": "code",
   "execution_count": 6,
   "metadata": {},
   "outputs": [
    {
     "name": "stdout",
     "output_type": "stream",
     "text": [
      "Collecting bhashini_translator\n",
      "  Using cached bhashini_translator-0.4.tar.gz (4.9 kB)\n",
      "  Preparing metadata (setup.py): started\n",
      "  Preparing metadata (setup.py): finished with status 'done'\n",
      "Requirement already satisfied: requests in c:\\users\\suriya\\appdata\\local\\programs\\python\\python312\\lib\\site-packages (from bhashini_translator) (2.31.0)\n",
      "Requirement already satisfied: charset-normalizer<4,>=2 in c:\\users\\suriya\\appdata\\local\\programs\\python\\python312\\lib\\site-packages (from requests->bhashini_translator) (3.3.2)\n",
      "Requirement already satisfied: idna<4,>=2.5 in c:\\users\\suriya\\appdata\\local\\programs\\python\\python312\\lib\\site-packages (from requests->bhashini_translator) (3.6)\n",
      "Requirement already satisfied: urllib3<3,>=1.21.1 in c:\\users\\suriya\\appdata\\local\\programs\\python\\python312\\lib\\site-packages (from requests->bhashini_translator) (2.2.1)\n",
      "Requirement already satisfied: certifi>=2017.4.17 in c:\\users\\suriya\\appdata\\local\\programs\\python\\python312\\lib\\site-packages (from requests->bhashini_translator) (2024.2.2)\n",
      "Building wheels for collected packages: bhashini_translator\n",
      "  Building wheel for bhashini_translator (setup.py): started\n",
      "  Building wheel for bhashini_translator (setup.py): finished with status 'done'\n",
      "  Created wheel for bhashini_translator: filename=bhashini_translator-0.4-py3-none-any.whl size=5238 sha256=5ea13c3d3428b4e5e63f0d17c11bd93be7059b214419cd78b1a57d4ba4642e83\n",
      "  Stored in directory: c:\\users\\suriya\\appdata\\local\\pip\\cache\\wheels\\3c\\28\\f4\\0839edf33f9678e716350df1087ae57b50f203d385391606b7\n",
      "Successfully built bhashini_translator\n",
      "Installing collected packages: bhashini_translator\n",
      "Successfully installed bhashini_translator-0.4\n",
      "Note: you may need to restart the kernel to use updated packages.\n"
     ]
    }
   ],
   "source": [
    "pip install bhashini_translator"
   ]
  },
  {
   "cell_type": "code",
   "execution_count": 34,
   "metadata": {},
   "outputs": [],
   "source": [
    "from bhashini_translator import Bhashini\n",
    "\n",
    "from dotenv import load_dotenv\n",
    "\n",
    "from openai import OpenAI"
   ]
  },
  {
   "cell_type": "code",
   "execution_count": 35,
   "metadata": {},
   "outputs": [],
   "source": [
    "from dotenv import load_dotenv\n",
    "import os\n",
    "\n",
    "load_dotenv()\n",
    "\n",
    "\n",
    "user_id = os.getenv('userID')\n",
    "ulca_api_key = os.getenv('ulcaApiKey')\n",
    "inference_api_key = os.getenv('InferenceApiKey')\n",
    "\n"
   ]
  },
  {
   "cell_type": "code",
   "execution_count": null,
   "metadata": {},
   "outputs": [],
   "source": []
  },
  {
   "cell_type": "code",
   "execution_count": 36,
   "metadata": {},
   "outputs": [],
   "source": [
    "def bhashini_translate(sourceLanguage, targetLanguage, text):\n",
    "\n",
    "    bhashini = Bhashini(\n",
    "\n",
    "        sourceLanguage,\n",
    "\n",
    "        targetLanguage,\n",
    "\n",
    "        )\n",
    "    \n",
    "    return bhashini.translate(text)"
   ]
  },
  {
   "cell_type": "code",
   "execution_count": 37,
   "metadata": {},
   "outputs": [
    {
     "name": "stdout",
     "output_type": "stream",
     "text": [
      "வணக்கம், எப்படி இருக்கிறீர்கள்?\n"
     ]
    }
   ],
   "source": [
    "print(bhashini_translate(\"en\", \"ta\", \"Hello, How are you?\"))"
   ]
  },
  {
   "cell_type": "code",
   "execution_count": 38,
   "metadata": {},
   "outputs": [],
   "source": [
    "def llm(question, content):\n",
    "\n",
    "\n",
    "  # Point to the local server\n",
    "\n",
    "  client = OpenAI(base_url=\"http://localhost:1234/v1\", api_key=\"lm-studio\")\n",
    "\n",
    "\n",
    "  passlllm = f'Question:{question}\\n Content:{content}'\n",
    "\n",
    "  print(passlllm)\n",
    "\n",
    "\n",
    "  completion = client.chat.completions.create(\n",
    "\n",
    "    model=\"TheBloke/Llama-2-7B-Chat-GGUF\",\n",
    "\n",
    "    messages=[\n",
    "\n",
    "      {\"role\": \"system\", \"content\": \"You are a Q&A Chatbot intracting with real-world customers to their questions. Only answer based on the content provided. Do not provide any information that is not in the content. Answer in a intercative way\"},\n",
    "\n",
    "      {\"role\": \"user\", \"content\": passlllm}\n",
    "\n",
    "    ],\n",
    "\n",
    "    temperature=0.7,\n",
    "\n",
    "  )\n",
    "\n",
    "\n",
    "  return completion.choices[0].message.content\n",
    "\n"
   ]
  },
  {
   "cell_type": "code",
   "execution_count": 33,
   "metadata": {},
   "outputs": [
    {
     "name": "stdout",
     "output_type": "stream",
     "text": [
      "Question:What is Salem\n",
      " Content:Salem is a city in the state of Tamil Nadu, which is also known as 'steel city' or the 'mango city' due to the mangoes that grows there.\n"
     ]
    },
    {
     "data": {
      "text/plain": [
       "'Great! Thank you for providing me with more information about Salem. So, I understand that Salem is a city in the state of Tamil Nadu and it has two nicknames - \"steel city\" or \"mango city\". Can you tell me more about what makes Salem known as a steel city?'"
      ]
     },
     "execution_count": 33,
     "metadata": {},
     "output_type": "execute_result"
    }
   ],
   "source": [
    "llm(\"What is Salem\", \"Salem is a city in the state of Tamil Nadu, which is also known as 'steel city' or the 'mango city' due to the mangoes that grows there.\")"
   ]
  },
  {
   "cell_type": "code",
   "execution_count": null,
   "metadata": {},
   "outputs": [],
   "source": [
    "from PyPDF2 import PdfReader\n",
    "\n",
    "\n",
    "reader = PdfReader(\"../data/12th_Computer-Science_EM - www.tntextbooks.in.pdf\")\n",
    "\n",
    "\n",
    "with open('extracted_text.txt', \"w\", encoding=\"utf-8\") as output_file:\n",
    "\n",
    "   for page in reader.pages:\n",
    "\n",
    "       page_text  = page.extract_text()\n",
    "\n",
    "       output_file.write(page_text)\n",
    "\n",
    "       output_file.write(\"\\n\")"
   ]
  },
  {
   "cell_type": "code",
   "execution_count": null,
   "metadata": {},
   "outputs": [],
   "source": [
    "from langchain_text_splitters import RecursiveCharacterTextSplitter\n",
    "\n",
    "with open(\"extracted_text.txt\") as f:\n",
    "\n",
    "   state_of_the_union = f.read()\n",
    "\n",
    "text_splitter = RecursiveCharacterTextSplitter(chunk_size=1000, chunk_overlap=200)\n",
    "\n",
    "chunks = text_splitter.create_documents([state_of_the_union])\n",
    "\n",
    "\n",
    "vdb_data = [chunk.page_content for chunk in chunks]"
   ]
  },
  {
   "cell_type": "code",
   "execution_count": null,
   "metadata": {},
   "outputs": [],
   "source": [
    "import chromadb\n",
    "\n",
    "chroma_client = chromadb.Client()\n",
    "collection = chroma_client.create_collection(name=\"rag\")\n",
    "\n",
    "collection.add(\n",
    "\n",
    "   documents = vdb_data,\n",
    "\n",
    "   ids = [str(i) for i in range(len(vdb_data))]\n",
    "\n",
    ")"
   ]
  },
  {
   "cell_type": "code",
   "execution_count": null,
   "metadata": {},
   "outputs": [],
   "source": [
    "import chromadb\n",
    "\n",
    "chroma_client = chromadb.Client()\n",
    "\n",
    "\n",
    "collection = chroma_client.create_collection(name=\"rag\")\n",
    "\n",
    "collection.add(\n",
    "\n",
    "   documents = vdb_data,\n",
    "\n",
    "   ids = [str(i) for i in range(len(vdb_data))]\n",
    "\n",
    ")"
   ]
  }
 ],
 "metadata": {
  "kernelspec": {
   "display_name": "Python 3",
   "language": "python",
   "name": "python3"
  },
  "language_info": {
   "codemirror_mode": {
    "name": "ipython",
    "version": 3
   },
   "file_extension": ".py",
   "mimetype": "text/x-python",
   "name": "python",
   "nbconvert_exporter": "python",
   "pygments_lexer": "ipython3",
   "version": "3.12.3"
  }
 },
 "nbformat": 4,
 "nbformat_minor": 2
}
