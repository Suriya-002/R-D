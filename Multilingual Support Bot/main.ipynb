{
 "cells": [
  {
   "cell_type": "code",
   "execution_count": 6,
   "metadata": {},
   "outputs": [
    {
     "name": "stdout",
     "output_type": "stream",
     "text": [
      "Collecting bhashini_translator\n",
      "  Using cached bhashini_translator-0.4.tar.gz (4.9 kB)\n",
      "  Preparing metadata (setup.py): started\n",
      "  Preparing metadata (setup.py): finished with status 'done'\n",
      "Requirement already satisfied: requests in c:\\users\\suriya\\appdata\\local\\programs\\python\\python312\\lib\\site-packages (from bhashini_translator) (2.31.0)\n",
      "Requirement already satisfied: charset-normalizer<4,>=2 in c:\\users\\suriya\\appdata\\local\\programs\\python\\python312\\lib\\site-packages (from requests->bhashini_translator) (3.3.2)\n",
      "Requirement already satisfied: idna<4,>=2.5 in c:\\users\\suriya\\appdata\\local\\programs\\python\\python312\\lib\\site-packages (from requests->bhashini_translator) (3.6)\n",
      "Requirement already satisfied: urllib3<3,>=1.21.1 in c:\\users\\suriya\\appdata\\local\\programs\\python\\python312\\lib\\site-packages (from requests->bhashini_translator) (2.2.1)\n",
      "Requirement already satisfied: certifi>=2017.4.17 in c:\\users\\suriya\\appdata\\local\\programs\\python\\python312\\lib\\site-packages (from requests->bhashini_translator) (2024.2.2)\n",
      "Building wheels for collected packages: bhashini_translator\n",
      "  Building wheel for bhashini_translator (setup.py): started\n",
      "  Building wheel for bhashini_translator (setup.py): finished with status 'done'\n",
      "  Created wheel for bhashini_translator: filename=bhashini_translator-0.4-py3-none-any.whl size=5238 sha256=5ea13c3d3428b4e5e63f0d17c11bd93be7059b214419cd78b1a57d4ba4642e83\n",
      "  Stored in directory: c:\\users\\suriya\\appdata\\local\\pip\\cache\\wheels\\3c\\28\\f4\\0839edf33f9678e716350df1087ae57b50f203d385391606b7\n",
      "Successfully built bhashini_translator\n",
      "Installing collected packages: bhashini_translator\n",
      "Successfully installed bhashini_translator-0.4\n",
      "Note: you may need to restart the kernel to use updated packages.\n"
     ]
    }
   ],
   "source": [
    "pip install bhashini_translator"
   ]
  },
  {
   "cell_type": "code",
   "execution_count": 1,
   "metadata": {},
   "outputs": [],
   "source": [
    "from bhashini_translator import Bhashini\n",
    "\n",
    "from dotenv import load_dotenv"
   ]
  },
  {
   "cell_type": "code",
   "execution_count": 5,
   "metadata": {},
   "outputs": [],
   "source": [
    "from dotenv import load_dotenv\n",
    "import os\n",
    "\n",
    "load_dotenv()\n",
    "\n",
    "\n",
    "user_id = os.getenv('userID')\n",
    "ulca_api_key = os.getenv('ulcaApiKey')\n",
    "inference_api_key = os.getenv('InferenceApiKey')\n",
    "\n"
   ]
  },
  {
   "cell_type": "code",
   "execution_count": null,
   "metadata": {},
   "outputs": [],
   "source": []
  }
 ],
 "metadata": {
  "kernelspec": {
   "display_name": "Python 3",
   "language": "python",
   "name": "python3"
  },
  "language_info": {
   "codemirror_mode": {
    "name": "ipython",
    "version": 3
   },
   "file_extension": ".py",
   "mimetype": "text/x-python",
   "name": "python",
   "nbconvert_exporter": "python",
   "pygments_lexer": "ipython3",
   "version": "3.12.3"
  }
 },
 "nbformat": 4,
 "nbformat_minor": 2
}
